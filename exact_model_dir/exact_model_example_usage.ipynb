{
 "cells": [
  {
   "cell_type": "markdown",
   "metadata": {},
   "source": []
  },
  {
   "cell_type": "markdown",
   "metadata": {},
   "source": [
    "## Exact models: execution example\n",
    "This notebook includes an example on how to use the exact models and other functions to solve the problem of team formation."
   ]
  },
  {
   "cell_type": "code",
   "execution_count": 1,
   "metadata": {},
   "outputs": [
    {
     "data": {
      "text/html": [
       "<div>\n",
       "<style scoped>\n",
       "    .dataframe tbody tr th:only-of-type {\n",
       "        vertical-align: middle;\n",
       "    }\n",
       "\n",
       "    .dataframe tbody tr th {\n",
       "        vertical-align: top;\n",
       "    }\n",
       "\n",
       "    .dataframe thead th {\n",
       "        text-align: right;\n",
       "    }\n",
       "</style>\n",
       "<table border=\"1\" class=\"dataframe\">\n",
       "  <thead>\n",
       "    <tr style=\"text-align: right;\">\n",
       "      <th></th>\n",
       "      <th>student_id</th>\n",
       "      <th>CW</th>\n",
       "      <th>CH</th>\n",
       "      <th>SH</th>\n",
       "      <th>PL</th>\n",
       "      <th>RI</th>\n",
       "      <th>ME</th>\n",
       "      <th>TW</th>\n",
       "      <th>CF</th>\n",
       "    </tr>\n",
       "  </thead>\n",
       "  <tbody>\n",
       "    <tr>\n",
       "      <th>1</th>\n",
       "      <td>2</td>\n",
       "      <td>15.0</td>\n",
       "      <td>9.0</td>\n",
       "      <td>14.0</td>\n",
       "      <td>15.0</td>\n",
       "      <td>12.0</td>\n",
       "      <td>6.0</td>\n",
       "      <td>9.0</td>\n",
       "      <td>19.0</td>\n",
       "    </tr>\n",
       "    <tr>\n",
       "      <th>2</th>\n",
       "      <td>3</td>\n",
       "      <td>17.0</td>\n",
       "      <td>0.0</td>\n",
       "      <td>10.0</td>\n",
       "      <td>26.0</td>\n",
       "      <td>7.0</td>\n",
       "      <td>10.0</td>\n",
       "      <td>7.0</td>\n",
       "      <td>22.0</td>\n",
       "    </tr>\n",
       "    <tr>\n",
       "      <th>3</th>\n",
       "      <td>4</td>\n",
       "      <td>0.0</td>\n",
       "      <td>0.0</td>\n",
       "      <td>0.0</td>\n",
       "      <td>0.0</td>\n",
       "      <td>0.0</td>\n",
       "      <td>0.0</td>\n",
       "      <td>0.0</td>\n",
       "      <td>0.0</td>\n",
       "    </tr>\n",
       "    <tr>\n",
       "      <th>4</th>\n",
       "      <td>5</td>\n",
       "      <td>11.0</td>\n",
       "      <td>16.0</td>\n",
       "      <td>20.0</td>\n",
       "      <td>11.0</td>\n",
       "      <td>13.0</td>\n",
       "      <td>9.0</td>\n",
       "      <td>10.0</td>\n",
       "      <td>10.0</td>\n",
       "    </tr>\n",
       "    <tr>\n",
       "      <th>5</th>\n",
       "      <td>6</td>\n",
       "      <td>12.0</td>\n",
       "      <td>14.0</td>\n",
       "      <td>14.0</td>\n",
       "      <td>11.0</td>\n",
       "      <td>11.0</td>\n",
       "      <td>12.0</td>\n",
       "      <td>14.0</td>\n",
       "      <td>12.0</td>\n",
       "    </tr>\n",
       "  </tbody>\n",
       "</table>\n",
       "</div>"
      ],
      "text/plain": [
       "   student_id    CW    CH    SH    PL    RI    ME    TW    CF\n",
       "1           2  15.0   9.0  14.0  15.0  12.0   6.0   9.0  19.0\n",
       "2           3  17.0   0.0  10.0  26.0   7.0  10.0   7.0  22.0\n",
       "3           4   0.0   0.0   0.0   0.0   0.0   0.0   0.0   0.0\n",
       "4           5  11.0  16.0  20.0  11.0  13.0   9.0  10.0  10.0\n",
       "5           6  12.0  14.0  14.0  11.0  11.0  12.0  14.0  12.0"
      ]
     },
     "execution_count": 1,
     "metadata": {},
     "output_type": "execute_result"
    }
   ],
   "source": [
    "import sys\n",
    "import pandas as pd\n",
    "sys.path.insert(0,\"..\")\n",
    "from exact_model import *\n",
    "from general_functions import *\n",
    "\n",
    "# Reading student data\n",
    "df = pd.read_csv(\"../data/student_data_anon.csv\",delimiter=\";\")\n",
    "\n",
    "# This time we will only be getting Belbin scores for a subset of students\n",
    "df = df.loc[list(range(1,31)),[\"student_id\",\"CW\",\"CH\",\"SH\",\"PL\",\"RI\",\"ME\",\"TW\",\"CF\"]]\n",
    "\n",
    "# Do something with the null values (your criterion)\n",
    "df.fillna(0, inplace=True)\n",
    "\n",
    "df.head()"
   ]
  },
  {
   "cell_type": "code",
   "execution_count": 2,
   "metadata": {},
   "outputs": [
    {
     "name": "stdout",
     "output_type": "stream",
     "text": [
      "{'CW': [15.0, 17.0, 0.0, 11.0, 12.0, 7.0, 13.0, 0.0, 11.0, 9.0, 16.0, 13.0, 8.0, 20.0, 10.0, 0.0, 21.0, 18.0, 15.0, 15.0, 15.0, 7.0, 11.0, 13.0, 9.0, 4.0, 11.0, 0.0, 23.0, 13.0], 'CH': [9.0, 0.0, 0.0, 16.0, 14.0, 21.0, 13.0, 0.0, 10.0, 10.0, 10.0, 15.0, 24.0, 11.0, 17.0, 0.0, 21.0, 8.0, 15.0, 13.0, 11.0, 4.0, 14.0, 7.0, 17.0, 7.0, 19.0, 0.0, 7.0, 12.0], 'SH': [14.0, 10.0, 0.0, 20.0, 14.0, 7.0, 14.0, 0.0, 23.0, 20.0, 12.0, 14.0, 16.0, 9.0, 25.0, 0.0, 13.0, 21.0, 19.0, 6.0, 13.0, 12.0, 20.0, 24.0, 16.0, 39.0, 16.0, 0.0, 16.0, 12.0], 'PL': [15.0, 26.0, 0.0, 11.0, 11.0, 10.0, 12.0, 0.0, 13.0, 10.0, 12.0, 11.0, 8.0, 4.0, 12.0, 0.0, 6.0, 4.0, 1.0, 5.0, 13.0, 25.0, 9.0, 17.0, 13.0, 4.0, 10.0, 0.0, 3.0, 13.0], 'RI': [12.0, 7.0, 0.0, 13.0, 11.0, 17.0, 11.0, 0.0, 11.0, 11.0, 12.0, 11.0, 9.0, 9.0, 13.0, 0.0, 3.0, 13.0, 9.0, 10.0, 11.0, 10.0, 9.0, 3.0, 11.0, 19.0, 7.0, 0.0, 12.0, 12.0], 'ME': [6.0, 10.0, 0.0, 9.0, 12.0, 1.0, 8.0, 0.0, 14.0, 4.0, 10.0, 12.0, 7.0, 21.0, 4.0, 0.0, 11.0, 0.0, 12.0, 6.0, 12.0, 0.0, 14.0, 17.0, 7.0, 3.0, 9.0, 0.0, 13.0, 13.0], 'TW': [9.0, 7.0, 0.0, 10.0, 14.0, 27.0, 14.0, 0.0, 13.0, 21.0, 14.0, 14.0, 16.0, 17.0, 17.0, 0.0, 16.0, 30.0, 22.0, 24.0, 15.0, 19.0, 17.0, 9.0, 16.0, 10.0, 17.0, 0.0, 23.0, 12.0], 'CF': [19.0, 22.0, 0.0, 10.0, 12.0, 9.0, 15.0, 0.0, 4.0, 15.0, 14.0, 12.0, 11.0, 9.0, 1.0, 0.0, 9.0, 6.0, 7.0, 21.0, 10.0, 23.0, 6.0, 10.0, 11.0, 14.0, 11.0, 0.0, 3.0, 12.0]}\n"
     ]
    }
   ],
   "source": [
    "# List of students\n",
    "students = list(df[\"student_id\"])\n",
    "\n",
    "# Table of scores into a dictionary\n",
    "scores_dict = scores_table2dict(df) #from the general_functions module\n",
    "print(scores_dict)"
   ]
  },
  {
   "cell_type": "code",
   "execution_count": 3,
   "metadata": {},
   "outputs": [],
   "source": [
    "# Constraint values\n",
    "MIN_G, MAX_G = 3, 4\n",
    "no_mates = [{1,3},{7,21}]\n",
    "compulsory = [{1,2},{10,30}]\n",
    "restr_num_groups = {3:[1,5]}\n",
    "\n",
    "# All possible team combinations\n",
    "combinations = generate_combinations(students, MIN_G, MAX_G)\n",
    "\n",
    "# Feasible teams\n",
    "combinations = delete_no_mates(combinations, no_mates)"
   ]
  },
  {
   "cell_type": "markdown",
   "metadata": {},
   "source": [
    "Using a model from the pywrap module:"
   ]
  },
  {
   "cell_type": "code",
   "execution_count": 4,
   "metadata": {},
   "outputs": [
    {
     "name": "stdout",
     "output_type": "stream",
     "text": [
      "Result type: optimal with value 8.0\n",
      "Resolution time: 64.68662548065186 seconds\n",
      "\n",
      " Best teams: [{12, 5, 7}, {11, 29, 15}, {16, 2, 6, 23}, {26, 9, 18, 3}, {24, 17, 4, 21}, {8, 27, 20, 14}, {10, 19, 13, 30}, {25, 28, 22, 31}]\n"
     ]
    }
   ],
   "source": [
    "resolution_time, result_string, best_teams, best_scores,value = use_pywrap_model(teams = combinations, \n",
    "                                                                                 students = students, \n",
    "                                                                                 compulsory = compulsory, \n",
    "                                                                                 scores_d = scores_dict, \n",
    "                                                                                 score_f=1, # Using Belbin\n",
    "                                                                                 restr_num_groups = restr_num_groups,\n",
    "                                                                                 sname=\"SCIP\")\n",
    "print(f\"Result type: {result_string} with value {value}\")\n",
    "print(f\"Resolution time: {resolution_time} seconds\")\n",
    "print(f\"\\n Best teams: {best_teams}\")"
   ]
  },
  {
   "cell_type": "markdown",
   "metadata": {},
   "source": [
    "Using the CP-SAT model:"
   ]
  },
  {
   "cell_type": "code",
   "execution_count": 5,
   "metadata": {},
   "outputs": [
    {
     "name": "stdout",
     "output_type": "stream",
     "text": [
      "Result type: optimal with value 8.0\n",
      "Resolution time: 13.844407796859741 seconds\n",
      "\n",
      " Best teams: [{2, 26, 20}, {16, 17, 18}, {27, 3, 28, 21}, {24, 25, 4, 23}, {29, 19, 5, 22}, {8, 9, 11, 6}, {12, 13, 14, 7}, {10, 31, 30, 15}]\n"
     ]
    }
   ],
   "source": [
    "resolution_time, result_string, best_teams, best_scores,value = use_SAT(teams = combinations, \n",
    "                                                                                 students = students, \n",
    "                                                                                 compulsory = compulsory, \n",
    "                                                                                 scores_d = scores_dict, \n",
    "                                                                                 score_f=1, \n",
    "                                                                                 restr_num_groups = restr_num_groups)\n",
    "print(f\"Result type: {result_string} with value {value}\")\n",
    "print(f\"Resolution time: {resolution_time} seconds\")\n",
    "print(f\"\\n Best teams: {best_teams}\")"
   ]
  }
 ],
 "metadata": {
  "kernelspec": {
   "display_name": "Python 3.9.12 ('base')",
   "language": "python",
   "name": "python3"
  },
  "language_info": {
   "codemirror_mode": {
    "name": "ipython",
    "version": 3
   },
   "file_extension": ".py",
   "mimetype": "text/x-python",
   "name": "python",
   "nbconvert_exporter": "python",
   "pygments_lexer": "ipython3",
   "version": "3.9.12"
  },
  "orig_nbformat": 4,
  "vscode": {
   "interpreter": {
    "hash": "555102e726f7758bed6050b8d293992404b4edc8f0b35355975f8fe7dd9b7a48"
   }
  }
 },
 "nbformat": 4,
 "nbformat_minor": 2
}
