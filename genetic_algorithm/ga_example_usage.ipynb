{
 "cells": [
  {
   "cell_type": "markdown",
   "metadata": {},
   "source": [
    "## Genetic algorithms for team formation. Usage example.\n",
    "This notebook shows how to use the implemented genetic algorithm for team formation."
   ]
  },
  {
   "cell_type": "code",
   "execution_count": 1,
   "metadata": {},
   "outputs": [],
   "source": [
    "import sys\n",
    "sys.path.insert(0,\"..\")\n",
    "from GA import *\n",
    "from general_functions import *\n",
    "import pandas as pd\n",
    "df = pd.read_csv(\"../data/student_data_anon.csv\",delimiter=\";\")\n",
    "\n",
    "df = df.sample(n=60)"
   ]
  },
  {
   "cell_type": "markdown",
   "metadata": {},
   "source": [
    "### 0. Data preparation"
   ]
  },
  {
   "cell_type": "code",
   "execution_count": 2,
   "metadata": {},
   "outputs": [
    {
     "data": {
      "text/html": [
       "<div>\n",
       "<style scoped>\n",
       "    .dataframe tbody tr th:only-of-type {\n",
       "        vertical-align: middle;\n",
       "    }\n",
       "\n",
       "    .dataframe tbody tr th {\n",
       "        vertical-align: top;\n",
       "    }\n",
       "\n",
       "    .dataframe thead th {\n",
       "        text-align: right;\n",
       "    }\n",
       "</style>\n",
       "<table border=\"1\" class=\"dataframe\">\n",
       "  <thead>\n",
       "    <tr style=\"text-align: right;\">\n",
       "      <th></th>\n",
       "      <th>student_id</th>\n",
       "      <th>E/I</th>\n",
       "      <th>S/N</th>\n",
       "      <th>T/F</th>\n",
       "      <th>J/P</th>\n",
       "    </tr>\n",
       "  </thead>\n",
       "  <tbody>\n",
       "    <tr>\n",
       "      <th>308</th>\n",
       "      <td>309</td>\n",
       "      <td>10.0</td>\n",
       "      <td>-10.0</td>\n",
       "      <td>-6.0</td>\n",
       "      <td>0.0</td>\n",
       "    </tr>\n",
       "    <tr>\n",
       "      <th>274</th>\n",
       "      <td>275</td>\n",
       "      <td>6.0</td>\n",
       "      <td>-2.0</td>\n",
       "      <td>-6.0</td>\n",
       "      <td>4.0</td>\n",
       "    </tr>\n",
       "    <tr>\n",
       "      <th>291</th>\n",
       "      <td>292</td>\n",
       "      <td>-2.0</td>\n",
       "      <td>4.0</td>\n",
       "      <td>-6.0</td>\n",
       "      <td>10.0</td>\n",
       "    </tr>\n",
       "    <tr>\n",
       "      <th>267</th>\n",
       "      <td>268</td>\n",
       "      <td>6.0</td>\n",
       "      <td>-12.0</td>\n",
       "      <td>-12.0</td>\n",
       "      <td>-2.0</td>\n",
       "    </tr>\n",
       "    <tr>\n",
       "      <th>111</th>\n",
       "      <td>112</td>\n",
       "      <td>6.0</td>\n",
       "      <td>6.0</td>\n",
       "      <td>4.0</td>\n",
       "      <td>12.0</td>\n",
       "    </tr>\n",
       "  </tbody>\n",
       "</table>\n",
       "</div>"
      ],
      "text/plain": [
       "     student_id   E/I   S/N   T/F   J/P\n",
       "308         309  10.0 -10.0  -6.0   0.0\n",
       "274         275   6.0  -2.0  -6.0   4.0\n",
       "291         292  -2.0   4.0  -6.0  10.0\n",
       "267         268   6.0 -12.0 -12.0  -2.0\n",
       "111         112   6.0   6.0   4.0  12.0"
      ]
     },
     "execution_count": 2,
     "metadata": {},
     "output_type": "execute_result"
    }
   ],
   "source": [
    "# This time with MBTI\n",
    "df = df.loc[:,[\"student_id\",\"E/I\",\"S/N\",\"T/F\",\"J/P\"]]\n",
    "\n",
    "# Do something with the null values (your criterion)\n",
    "df.fillna(0, inplace=True)\n",
    "\n",
    "df.head()"
   ]
  },
  {
   "cell_type": "code",
   "execution_count": 3,
   "metadata": {},
   "outputs": [
    {
     "name": "stdout",
     "output_type": "stream",
     "text": [
      "{'E/I': [10.0, 6.0, -2.0, 6.0, 6.0, 2.0, 0.0, 0.0, 2.0, 0.0, 8.0, 6.0, 0.0, -2.0, 0.0, 2.0, 2.0, 0.0, 0.0, 0.0, 0.0, -6.0, 0.0, 6.0, 2.0, 4.0, 6.0, 0.0, 8.0, 2.0, 0.0, 0.0, 0.0, 6.0, -2.0, 8.0, 0.0, -2.0, 0.0, 4.0, 0.0, 0.0, 0.0, 0.0, 2.0, 0.0, 6.0, 0.0, 2.0, 4.0, 6.0, 0.0, 0.0, 2.0, 6.0, 0.0, 0.0, 8.0, 0.0, 4.0], 'S/N': [-10.0, -2.0, 4.0, -12.0, 6.0, 0.0, 0.0, 0.0, -4.0, 10.0, 2.0, -14.0, 0.0, 10.0, 0.0, -4.0, 4.0, 0.0, 2.0, 0.0, 0.0, -1.0, 0.0, -6.0, 6.0, -8.0, -3.0, 0.0, -6.0, -12.0, -10.0, 0.0, 0.0, 4.0, 12.0, -8.0, 0.0, 4.0, 0.0, -6.0, 0.0, -4.0, 0.0, 0.0, -19.0, 0.0, -10.0, 0.0, 0.0, -6.0, -5.0, 0.0, 0.0, -2.0, 8.0, 0.0, 0.0, 4.0, 0.0, -1.0], 'T/F': [-6.0, -6.0, -6.0, -12.0, 4.0, 4.0, 0.0, 0.0, -6.0, -2.0, -4.0, 4.0, -2.0, -10.0, 0.0, -8.0, 8.0, 0.0, 4.0, 0.0, 0.0, -2.0, 0.0, 2.0, -8.0, -4.0, -10.0, 0.0, 12.0, 10.0, -8.0, 0.0, 0.0, -2.0, 2.0, 8.0, 0.0, 6.0, 0.0, -6.0, 0.0, -6.0, 0.0, 0.0, -2.0, 0.0, -4.0, 6.0, -2.0, -6.0, 2.0, 0.0, 0.0, 8.0, -8.0, 0.0, 0.0, 10.0, 0.0, 2.0], 'J/P': [0.0, 4.0, 10.0, -2.0, 12.0, 8.0, 0.0, 0.0, -10.0, -10.0, 8.0, -10.0, 14.0, 10.0, 0.0, 10.0, 6.0, 0.0, 12.0, 0.0, 0.0, 4.0, 0.0, 6.0, 4.0, 14.0, 2.0, 0.0, -2.0, 0.0, 0.0, 0.0, 0.0, 8.0, 16.0, 0.0, 0.0, 10.0, 0.0, -2.0, 0.0, -8.0, 0.0, 0.0, 0.0, 0.0, -4.0, 6.0, 9.0, 4.0, 4.0, 0.0, 0.0, 8.0, 6.0, 0.0, 0.0, 12.0, 0.0, 6.0]}\n"
     ]
    }
   ],
   "source": [
    "# List of students\n",
    "students = list(df[\"student_id\"])\n",
    "\n",
    "# Table of scores into a dictionary\n",
    "scores_dict = scores_table2dict(df) #from the general_functions module\n",
    "print(scores_dict)"
   ]
  },
  {
   "cell_type": "code",
   "execution_count": 4,
   "metadata": {},
   "outputs": [],
   "source": [
    "# Defining the constraints\n",
    "\n",
    "MIN_G, MAX_G = 3, 6\n",
    "no_mates = [] # [{1,3},{7,21}]\n",
    "compulsory = [set(df.sample(2)[\"student_id\"]) for i in range(3)] # [{1,2},{10,30}]\n",
    "restr_num_groups = {} # {3:[1,5]}"
   ]
  },
  {
   "cell_type": "markdown",
   "metadata": {},
   "source": [
    "### 1. Defining the StudentGA object and examples of method outputs."
   ]
  },
  {
   "cell_type": "code",
   "execution_count": 5,
   "metadata": {},
   "outputs": [],
   "source": [
    "student_ga = StudentGA(students=students, \n",
    "                       scores_d=scores_dict,\n",
    "                       compulsory=compulsory,\n",
    "                       reject=no_mates,\n",
    "                       mingroup=MIN_G,\n",
    "                       maxgroup=MAX_G,\n",
    "                       dict_rest=restr_num_groups,\n",
    "                       scoring_type=2)"
   ]
  },
  {
   "cell_type": "code",
   "execution_count": 6,
   "metadata": {},
   "outputs": [
    {
     "name": "stdout",
     "output_type": "stream",
     "text": [
      "[0, 0, 1, 0, 0, 1, 0, 0, 1, 0, 0, 1, 0, 0, 1, 0, 0, 1, 0, 0, 1, 0, 0, 1, 0, 0, 1, 0, 0, 1, 0, 0, 1, 0, 0, 1, 0, 0, 1, 0, 0, 1, 0, 0, 1, 0, 0, 1, 0, 0, 1, 0, 0, 1, 0, 0, 1, 0, 0]\n",
      "[0, 0, 1, 0, 0, 1, 0, 0, 1, 0, 0, 1, 0, 0, 1, 0, 0, 1, 0, 0, 1, 0, 0, 1, 0, 0, 1, 0, 0, 1, 0, 0, 1, 0, 0, 1, 0, 0, 1, 0, 0, 1, 0, 0, 1, 0, 0, 1, 0, 0, 1, 0, 0, 1, 0, 0, 0, 0, 0]\n",
      "[0, 0, 1, 0, 0, 1, 0, 0, 1, 0, 0, 1, 0, 0, 1, 0, 0, 1, 0, 0, 1, 0, 0, 1, 0, 0, 1, 0, 0, 1, 0, 0, 1, 0, 0, 1, 0, 0, 1, 0, 0, 1, 0, 0, 1, 0, 0, 1, 0, 0, 1, 0, 0, 0, 1, 0, 0, 0, 0]\n"
     ]
    }
   ],
   "source": [
    "# Some of the valid masks of the problem\n",
    "for v in student_ga.valid_masks[0:3]:\n",
    "    print(v) "
   ]
  },
  {
   "cell_type": "code",
   "execution_count": 7,
   "metadata": {},
   "outputs": [
    {
     "name": "stdout",
     "output_type": "stream",
     "text": [
      "Random encoded solution: \n",
      "[[90, 24, 154, 308, 186, 43, 72, 102, 15, 320, 280, 268, 109, 355, 223, 112, 374, 49, 73, 282, 194, 242, 36, 343, 96, 364, 6, 204, 373, 287, 230, 245, 171, 188, 368, 294, 336, 54, 292, 50, 163, 184, 254, 199, 22, 115, 309, 275, 103, 318, 319, 142, 61, 87, 326, 162, 159, 40, 322, 11], [0, 0, 0, 1, 0, 0, 0, 1, 0, 0, 0, 1, 0, 0, 0, 1, 0, 0, 0, 1, 0, 0, 0, 0, 1, 0, 0, 0, 0, 1, 0, 0, 0, 0, 1, 0, 0, 0, 0, 1, 0, 0, 0, 0, 1, 0, 0, 0, 0, 1, 0, 0, 0, 0, 1, 0, 0, 0, 0]]\n",
      "\n",
      "Random solution: \n",
      "[{24, 90, 308, 154}, {72, 186, 43, 102}, {320, 280, 268, 15}, {112, 355, 109, 223}, {73, 49, 282, 374}, {96, 194, 36, 242, 343}, {6, 204, 364, 373, 287}, {230, 171, 368, 245, 188}, {292, 294, 336, 50, 54}, {163, 199, 22, 184, 254}, {103, 275, 115, 309, 318}, {326, 142, 87, 61, 319}, {162, 322, 40, 11, 159}]\n",
      "\n",
      "Solution fitness: 0\n"
     ]
    }
   ],
   "source": [
    "random_solution = student_ga.generate_random_solution()\n",
    "\n",
    "print(f\"Random encoded solution: \\n{random_solution}\\n\")\n",
    "print(f\"Random solution: \\n{student_ga.decode_solution(random_solution)}\\n\")\n",
    "print(f\"Solution fitness: {student_ga.get_fitness(random_solution)}\")"
   ]
  },
  {
   "cell_type": "code",
   "execution_count": 8,
   "metadata": {},
   "outputs": [
    {
     "name": "stdout",
     "output_type": "stream",
     "text": [
      "Solution 1 has fitness 0\n",
      "Solution 2 has fitness 0\n"
     ]
    }
   ],
   "source": [
    "# As there are multiple compulsory pair of students, the most usual is to get non feasible solutions at first.\n",
    "# This does not happen when other constraints besides the team sizes are included. Check this by replacing\n",
    "# the compulsory list with an empty one.\n",
    "random_population = student_ga.generate_random_population(population_size=2)\n",
    "for i, sol in enumerate(random_population):\n",
    "    print(f\"Solution {i+1} has fitness {student_ga.get_fitness(sol)}\")"
   ]
  },
  {
   "cell_type": "code",
   "execution_count": 9,
   "metadata": {},
   "outputs": [
    {
     "name": "stdout",
     "output_type": "stream",
     "text": [
      "[0, 0, 0, 1, 0, 0, 0, 1, 0, 0, 0, 1, 0, 0, 0, 1, 0, 0, 0, 1, 0, 0, 0, 0, 1, 0, 0, 0, 0, 1, 0, 0, 0, 0, 1, 0, 0, 0, 0, 1, 0, 0, 0, 0, 1, 0, 0, 0, 0, 1, 0, 0, 0, 0, 1, 0, 0, 0, 0]\n",
      "[0, 0, 1, 0, 0, 1, 0, 0, 1, 0, 0, 1, 0, 0, 1, 0, 0, 1, 0, 0, 1, 0, 0, 1, 0, 0, 1, 0, 0, 1, 0, 0, 1, 0, 0, 1, 0, 0, 1, 0, 0, 1, 0, 0, 1, 0, 0, 1, 0, 0, 1, 0, 0, 1, 0, 0, 1, 0, 0]\n"
     ]
    }
   ],
   "source": [
    "mutated_1 = student_ga.randomised_mask_mutation(random_solution[1])\n",
    "print(random_solution[1])\n",
    "print(mutated_1)"
   ]
  },
  {
   "cell_type": "markdown",
   "metadata": {},
   "source": [
    "### 2. GA execution."
   ]
  },
  {
   "cell_type": "code",
   "execution_count": 10,
   "metadata": {},
   "outputs": [
    {
     "data": {
      "text/html": [
       "<div>\n",
       "<style scoped>\n",
       "    .dataframe tbody tr th:only-of-type {\n",
       "        vertical-align: middle;\n",
       "    }\n",
       "\n",
       "    .dataframe tbody tr th {\n",
       "        vertical-align: top;\n",
       "    }\n",
       "\n",
       "    .dataframe thead th {\n",
       "        text-align: right;\n",
       "    }\n",
       "</style>\n",
       "<table border=\"1\" class=\"dataframe\">\n",
       "  <thead>\n",
       "    <tr style=\"text-align: right;\">\n",
       "      <th></th>\n",
       "      <th>best_fitness</th>\n",
       "      <th>iterations</th>\n",
       "      <th>final_time</th>\n",
       "      <th>final_population</th>\n",
       "    </tr>\n",
       "  </thead>\n",
       "  <tbody>\n",
       "    <tr>\n",
       "      <th>0</th>\n",
       "      <td>5.25</td>\n",
       "      <td>162</td>\n",
       "      <td>70.704286</td>\n",
       "      <td>[[[242, 199, 254, 115, 292, 355, 90, 112, 374,...</td>\n",
       "    </tr>\n",
       "  </tbody>\n",
       "</table>\n",
       "</div>"
      ],
      "text/plain": [
       "   best_fitness  iterations  final_time  \\\n",
       "0          5.25         162   70.704286   \n",
       "\n",
       "                                    final_population  \n",
       "0  [[[242, 199, 254, 115, 292, 355, 90, 112, 374,...  "
      ]
     },
     "execution_count": 10,
     "metadata": {},
     "output_type": "execute_result"
    }
   ],
   "source": [
    "# If no configuration passed, it uses the global best from experiments\n",
    "result_data, iteration_data = student_ga.execute() \n",
    "result_data"
   ]
  },
  {
   "cell_type": "code",
   "execution_count": 11,
   "metadata": {},
   "outputs": [
    {
     "data": {
      "image/png": "[encoded data removed]",
      "text/plain": [
       "<Figure size 432x288 with 1 Axes>"
      ]
     },
     "metadata": {
      "needs_background": "light"
     },
     "output_type": "display_data"
    }
   ],
   "source": [
    "import matplotlib.pyplot as plt\n",
    "iteration_data.plot(x=\"iterations\",y=\"best_fitness\",legend=False,ylabel=\"Best fitness\",\n",
    "                    xlabel=\"Iteration\",title=\"Convergence during iterations\")\n",
    "plt.show()"
   ]
  },
  {
   "cell_type": "code",
   "execution_count": 12,
   "metadata": {},
   "outputs": [
    {
     "name": "stdout",
     "output_type": "stream",
     "text": [
      "Best fitness: 0    4.75\n",
      "Name: best_fitness, dtype: float64.\n",
      "Final time: 0    1387.960025\n",
      "Name: final_time, dtype: float64 seconds.\n"
     ]
    },
    {
     "data": {
      "text/plain": [
       "<AxesSubplot:title={'center':'Convergence during iterations'}, xlabel='Iteration', ylabel='Best fitness'>"
      ]
     },
     "execution_count": 12,
     "metadata": {},
     "output_type": "execute_result"
    },
    {
     "data": {
      "image/png": "[encoded data removed]",
      "text/plain": [
       "<Figure size 432x288 with 1 Axes>"
      ]
     },
     "metadata": {
      "needs_background": "light"
     },
     "output_type": "display_data"
    }
   ],
   "source": [
    "# With a specific configuration\n",
    "# Configuration follows this pattern:\n",
    "# (perm_cross, p_cross, key_cross, perm_mut, p_mut, key_mut, selection, replacement, population_size)\n",
    "result_data, iteration_data = student_ga.execute(configuration=('CX', 0.6, 'InheritMask', 'RSM', 0.5, 'RandomisedMasking', 'RWS-sp-1.5', 'EL', 100))\n",
    "print(f\"Best fitness: {result_data['best_fitness']}.\")\n",
    "print(f\"Final time: {result_data['final_time']} seconds.\")\n",
    "iteration_data.plot(x=\"iterations\",y=\"best_fitness\",legend=False,ylabel=\"Best fitness\",\n",
    "                    xlabel=\"Iteration\",title=\"Convergence during iterations\")"
   ]
  }
 ],
 "metadata": {
  "kernelspec": {
   "display_name": "Python 3.9.12 ('base')",
   "language": "python",
   "name": "python3"
  },
  "language_info": {
   "codemirror_mode": {
    "name": "ipython",
    "version": 3
   },
   "file_extension": ".py",
   "mimetype": "text/x-python",
   "name": "python",
   "nbconvert_exporter": "python",
   "pygments_lexer": "ipython3",
   "version": "3.9.12"
  },
  "orig_nbformat": 4,
  "vscode": {
   "interpreter": {
    "hash": "555102e726f7758bed6050b8d293992404b4edc8f0b35355975f8fe7dd9b7a48"
   }
  }
 },
 "nbformat": 4,
 "nbformat_minor": 2
}
